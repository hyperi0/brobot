{
 "cells": [
  {
   "cell_type": "code",
   "execution_count": 25,
   "metadata": {},
   "outputs": [
    {
     "name": "stderr",
     "output_type": "stream",
     "text": [
      "Some weights of the model checkpoint at facebook/detr-resnet-50 were not used when initializing DetrForObjectDetection: ['model.backbone.conv_encoder.model.layer1.0.downsample.1.num_batches_tracked', 'model.backbone.conv_encoder.model.layer2.0.downsample.1.num_batches_tracked', 'model.backbone.conv_encoder.model.layer3.0.downsample.1.num_batches_tracked', 'model.backbone.conv_encoder.model.layer4.0.downsample.1.num_batches_tracked']\n",
      "- This IS expected if you are initializing DetrForObjectDetection from the checkpoint of a model trained on another task or with another architecture (e.g. initializing a BertForSequenceClassification model from a BertForPreTraining model).\n",
      "- This IS NOT expected if you are initializing DetrForObjectDetection from the checkpoint of a model that you expect to be exactly identical (initializing a BertForSequenceClassification model from a BertForSequenceClassification model).\n"
     ]
    },
    {
     "name": "stdout",
     "output_type": "stream",
     "text": [
      "left\n"
     ]
    }
   ],
   "source": [
    "import cv2\n",
    "import torch\n",
    "from transformers import DetrForObjectDetection, DetrImageProcessor\n",
    "from PIL import Image\n",
    "import numpy as np\n",
    "\n",
    "# Load the model\n",
    "model = DetrForObjectDetection.from_pretrained(\"facebook/detr-resnet-50\")\n",
    "\n",
    "# Load the image processor\n",
    "processor = DetrImageProcessor.from_pretrained(\"facebook/detr-resnet-50\")\n",
    "\n",
    "# Load the images\n",
    "img1 = Image.open('image1.jpg')\n",
    "img2 = Image.open('image2.jpg')\n",
    "\n",
    "# Process the images\n",
    "inputs1 = processor(images=img1, return_tensors=\"pt\")\n",
    "inputs2 = processor(images=img2, return_tensors=\"pt\")\n",
    "\n",
    "# Apply the object detection model\n",
    "outputs1 = model(**inputs1)\n",
    "outputs2 = model(**inputs2)\n",
    "\n",
    "# Define a function to calculate the direction of movement\n",
    "def calculate_direction(old_outputs, new_outputs):\n",
    "    # Get the bounding boxes\n",
    "    old_boxes = old_outputs.pred_boxes[0].detach().numpy()\n",
    "    new_boxes = new_outputs.pred_boxes[0].detach().numpy()\n",
    "\n",
    "    # Calculate the difference in x and y coordinates\n",
    "    x_diff = np.mean(new_boxes[:, 0] - old_boxes[:, 0])\n",
    "    y_diff = np.mean(new_boxes[:, 1] - old_boxes[:, 1])\n",
    "\n",
    "    # Calculate the direction\n",
    "    if abs(x_diff) > abs(y_diff):\n",
    "        if x_diff > 0:\n",
    "            return 'right'\n",
    "        else:\n",
    "            return 'left'\n",
    "    else:\n",
    "        if y_diff > 0:\n",
    "            return 'down'\n",
    "        else:\n",
    "            return 'up'\n",
    "\n",
    "# Calculate the direction of movement\n",
    "direction = calculate_direction(outputs1, outputs2)\n",
    "\n",
    "# Print the direction\n",
    "print(direction)"
   ]
  },
  {
   "cell_type": "code",
   "execution_count": 26,
   "metadata": {},
   "outputs": [
    {
     "name": "stderr",
     "output_type": "stream",
     "text": [
      "Some weights of the model checkpoint at facebook/detr-resnet-50 were not used when initializing DetrForObjectDetection: ['model.backbone.conv_encoder.model.layer1.0.downsample.1.num_batches_tracked', 'model.backbone.conv_encoder.model.layer2.0.downsample.1.num_batches_tracked', 'model.backbone.conv_encoder.model.layer3.0.downsample.1.num_batches_tracked', 'model.backbone.conv_encoder.model.layer4.0.downsample.1.num_batches_tracked']\n",
      "- This IS expected if you are initializing DetrForObjectDetection from the checkpoint of a model trained on another task or with another architecture (e.g. initializing a BertForSequenceClassification model from a BertForPreTraining model).\n",
      "- This IS NOT expected if you are initializing DetrForObjectDetection from the checkpoint of a model that you expect to be exactly identical (initializing a BertForSequenceClassification model from a BertForSequenceClassification model).\n"
     ]
    },
    {
     "name": "stdout",
     "output_type": "stream",
     "text": [
      "left\n"
     ]
    }
   ],
   "source": [
    "import cv2\n",
    "import torch\n",
    "from transformers import DetrForObjectDetection, DetrImageProcessor\n",
    "from PIL import Image\n",
    "import numpy as np\n",
    "\n",
    "# Load the model\n",
    "model = DetrForObjectDetection.from_pretrained(\"facebook/detr-resnet-50\")\n",
    "\n",
    "# Load the image processor\n",
    "processor = DetrImageProcessor.from_pretrained(\"facebook/detr-resnet-50\")\n",
    "\n",
    "# Load the images\n",
    "img1 = Image.open('image1.jpg')\n",
    "img2 = Image.open('image2.jpg')\n",
    "\n",
    "# Process the images\n",
    "inputs1 = processor(images=img1, return_tensors=\"pt\")\n",
    "inputs2 = processor(images=img2, return_tensors=\"pt\")\n",
    "\n",
    "# Apply the object detection model\n",
    "objects1 = model(**inputs1)\n",
    "objects2 = model(**inputs2)\n",
    "\n",
    "# Define a function to calculate the direction of movement\n",
    "def calculate_direction(old_objects, new_objects):\n",
    "    # Get the bounding boxes\n",
    "    old_boxes = old_objects.pred_boxes[0].detach().numpy()\n",
    "    new_boxes = new_objects.pred_boxes[0].detach().numpy()\n",
    "\n",
    "    # Calculate the difference in x and y coordinates\n",
    "    x_diff = np.mean(new_boxes[:, 0] - old_boxes[:, 0])\n",
    "    y_diff = np.mean(new_boxes[:, 1] - old_boxes[:, 1])\n",
    "\n",
    "    # Calculate the direction\n",
    "    if abs(x_diff) > abs(y_diff):\n",
    "        if x_diff > 0:\n",
    "            return 'right'\n",
    "        else:\n",
    "            return 'left'\n",
    "    else:\n",
    "        if y_diff > 0:\n",
    "            return 'down'\n",
    "        else:\n",
    "            return 'up'\n",
    "\n",
    "# Calculate the direction of movement\n",
    "direction = calculate_direction(objects1, objects2)\n",
    "\n",
    "# Print the direction\n",
    "print(direction)"
   ]
  },
  {
   "cell_type": "code",
   "execution_count": 30,
   "metadata": {},
   "outputs": [
    {
     "name": "stderr",
     "output_type": "stream",
     "text": [
      "Some weights of the model checkpoint at facebook/detr-resnet-50 were not used when initializing DetrForObjectDetection: ['model.backbone.conv_encoder.model.layer1.0.downsample.1.num_batches_tracked', 'model.backbone.conv_encoder.model.layer2.0.downsample.1.num_batches_tracked', 'model.backbone.conv_encoder.model.layer3.0.downsample.1.num_batches_tracked', 'model.backbone.conv_encoder.model.layer4.0.downsample.1.num_batches_tracked']\n",
      "- This IS expected if you are initializing DetrForObjectDetection from the checkpoint of a model trained on another task or with another architecture (e.g. initializing a BertForSequenceClassification model from a BertForPreTraining model).\n",
      "- This IS NOT expected if you are initializing DetrForObjectDetection from the checkpoint of a model that you expect to be exactly identical (initializing a BertForSequenceClassification model from a BertForSequenceClassification model).\n"
     ]
    },
    {
     "name": "stdout",
     "output_type": "stream",
     "text": [
      "left\n"
     ]
    }
   ],
   "source": [
    "import cv2\n",
    "import torch\n",
    "from transformers import DetrForObjectDetection, DetrImageProcessor\n",
    "from PIL import Image\n",
    "import numpy as np\n",
    "\n",
    "# Load the model\n",
    "model = DetrForObjectDetection.from_pretrained(\"facebook/detr-resnet-50\")\n",
    "\n",
    "# Load the image processor\n",
    "processor = DetrImageProcessor.from_pretrained(\"facebook/detr-resnet-50\")\n",
    "\n",
    "# Load the images\n",
    "img1 = Image.open('image1.jpg')\n",
    "img2 = Image.open('image2.jpg')\n",
    "\n",
    "# Process the images\n",
    "inputs1 = processor(images=img1, return_tensors=\"pt\")\n",
    "inputs2 = processor(images=img2, return_tensors=\"pt\")\n",
    "\n",
    "# Apply the object detection model\n",
    "outputs1 = model(**inputs1)\n",
    "outputs2 = model(**inputs2)\n",
    "\n",
    "# Define a function to calculate the direction of movement\n",
    "def calculate_direction(old_outputs, new_outputs):\n",
    "    # Get the bounding boxes\n",
    "    old_boxes = old_outputs.pred_boxes[0].detach().numpy()\n",
    "    new_boxes = new_outputs.pred_boxes[0].detach().numpy()\n",
    "\n",
    "    # Calculate the difference in x and y coordinates\n",
    "    x_diff = np.mean(new_boxes[:, 0] - old_boxes[:, 0])\n",
    "    y_diff = np.mean(new_boxes[:, 1] - old_boxes[:, 1])\n",
    "\n",
    "    # Calculate the direction\n",
    "    if abs(x_diff) > abs(y_diff):\n",
    "        if x_diff > 0:\n",
    "            return 'right'\n",
    "        else:\n",
    "            return 'left'\n",
    "    else:\n",
    "        if y_diff > 0:\n",
    "            return 'down'  # moving down means the camera is moving forward\n",
    "        else:\n",
    "            return 'up'  # moving up means the camera is moving backward\n",
    "\n",
    "# Calculate the direction of movement\n",
    "direction = calculate_direction(outputs1, outputs2)\n",
    "\n",
    "# Print the direction\n",
    "print(direction)"
   ]
  },
  {
   "cell_type": "code",
   "execution_count": 32,
   "metadata": {},
   "outputs": [
    {
     "name": "stderr",
     "output_type": "stream",
     "text": [
      "Some weights of the model checkpoint at facebook/detr-resnet-50 were not used when initializing DetrForObjectDetection: ['model.backbone.conv_encoder.model.layer1.0.downsample.1.num_batches_tracked', 'model.backbone.conv_encoder.model.layer2.0.downsample.1.num_batches_tracked', 'model.backbone.conv_encoder.model.layer3.0.downsample.1.num_batches_tracked', 'model.backbone.conv_encoder.model.layer4.0.downsample.1.num_batches_tracked']\n",
      "- This IS expected if you are initializing DetrForObjectDetection from the checkpoint of a model trained on another task or with another architecture (e.g. initializing a BertForSequenceClassification model from a BertForPreTraining model).\n",
      "- This IS NOT expected if you are initializing DetrForObjectDetection from the checkpoint of a model that you expect to be exactly identical (initializing a BertForSequenceClassification model from a BertForSequenceClassification model).\n"
     ]
    },
    {
     "name": "stdout",
     "output_type": "stream",
     "text": [
      "-0.015051879 0.0078124213\n",
      "left\n"
     ]
    }
   ],
   "source": [
    "import cv2\n",
    "import torch\n",
    "from transformers import DetrForObjectDetection, DetrImageProcessor\n",
    "from PIL import Image\n",
    "import numpy as np\n",
    "\n",
    "# Load the model\n",
    "model = DetrForObjectDetection.from_pretrained(\"facebook/detr-resnet-50\")\n",
    "\n",
    "# Load the image processor\n",
    "processor = DetrImageProcessor.from_pretrained(\"facebook/detr-resnet-50\")\n",
    "\n",
    "# Load the images\n",
    "img1 = Image.open('image1.jpg')\n",
    "img2 = Image.open('image2.jpg')\n",
    "\n",
    "# Process the images\n",
    "inputs1 = processor(images=img1, return_tensors=\"pt\")\n",
    "inputs2 = processor(images=img2, return_tensors=\"pt\")\n",
    "\n",
    "# Apply the object detection model\n",
    "outputs1 = model(**inputs1)\n",
    "outputs2 = model(**inputs2)\n",
    "\n",
    "# Define a function to calculate the direction of movement\n",
    "def calculate_direction(old_outputs, new_outputs):\n",
    "    # Get the bounding boxes\n",
    "    old_boxes = old_outputs.pred_boxes[0].detach().numpy()\n",
    "    new_boxes = new_outputs.pred_boxes[0].detach().numpy()\n",
    "\n",
    "    # Calculate the difference in x and y coordinates\n",
    "    x_diff = np.mean(new_boxes[:, 0] - old_boxes[:, 0])\n",
    "    y_diff = np.mean(new_boxes[:, 1] - old_boxes[:, 1])\n",
    "    print(x_diff, y_diff)\n",
    "    # Calculate the direction\n",
    "    if abs(x_diff) > abs(y_diff):\n",
    "        if x_diff > 0:\n",
    "            return 'right'\n",
    "        else:\n",
    "            return 'left'\n",
    "    else:\n",
    "        if y_diff > 0:\n",
    "            return 'down'\n",
    "        else:\n",
    "            return 'up'\n",
    "\n",
    "# Calculate the direction of movement\n",
    "direction = calculate_direction(outputs1, outputs2)\n",
    "\n",
    "# Print the direction\n",
    "print(direction)"
   ]
  },
  {
   "cell_type": "code",
   "execution_count": null,
   "metadata": {},
   "outputs": [],
   "source": []
  }
 ],
 "metadata": {
  "kernelspec": {
   "display_name": "huggingface",
   "language": "python",
   "name": "python3"
  },
  "language_info": {
   "codemirror_mode": {
    "name": "ipython",
    "version": 3
   },
   "file_extension": ".py",
   "mimetype": "text/x-python",
   "name": "python",
   "nbconvert_exporter": "python",
   "pygments_lexer": "ipython3",
   "version": "3.11.3"
  }
 },
 "nbformat": 4,
 "nbformat_minor": 2
}
